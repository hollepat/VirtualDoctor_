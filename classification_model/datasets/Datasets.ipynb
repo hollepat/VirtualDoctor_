{
 "cells": [
  {
   "metadata": {
    "ExecuteTime": {
     "end_time": "2024-11-24T11:53:09.612115Z",
     "start_time": "2024-11-24T11:53:09.603957Z"
    }
   },
   "cell_type": "code",
   "source": [
    "\"\"\"\n",
    "Data Exploration\n",
    "\n",
    "\"\"\"\n",
    "\n",
    "import pandas as pd\n",
    "\n",
    "# Open locally stored dataset\n",
    "df = pd.read_csv('kaggle/Disease Symptoms and Patient Profile Dataset_exported.csv')\n",
    "\n",
    "# View FEATURES\n",
    "features = df.head()\n",
    "print(features)\n",
    "\n",
    "# Display statistics of number of classes and number of samples for each class\n",
    "disease_occurrence_count = df['Disease'].value_counts()\n",
    "print(\"Number of classes: \", disease_occurrence_count)\n"
   ],
   "id": "5e7cbeedb07fb38c",
   "outputs": [
    {
     "name": "stdout",
     "output_type": "stream",
     "text": [
      "Number of classes:  Disease\n",
      "Asthma                            23\n",
      "Stroke                            16\n",
      "Osteoporosis                      14\n",
      "Hypertension                      10\n",
      "Diabetes                          10\n",
      "                                  ..\n",
      "Autism Spectrum Disorder (ASD)     1\n",
      "Hypoglycemia                       1\n",
      "Fibromyalgia                       1\n",
      "Eating Disorders (Anorexia,...     1\n",
      "Williams Syndrome                  1\n",
      "Name: count, Length: 116, dtype: int64\n"
     ]
    }
   ],
   "execution_count": 3
  },
  {
   "metadata": {
    "ExecuteTime": {
     "end_time": "2024-11-10T15:51:06.043861Z",
     "start_time": "2024-11-10T15:51:06.026633Z"
    }
   },
   "cell_type": "code",
   "outputs": [
    {
     "name": "stdout",
     "output_type": "stream",
     "text": [
      "['Asthma', 'Stroke', 'Osteoporosis', 'Hypertension', 'Diabetes', 'Migraine', 'Influenza', 'Pneumonia', 'Bronchitis', 'Hyperthyroidism']\n"
     ]
    }
   ],
   "execution_count": 4,
   "source": [
    "\"\"\"\n",
    "Data Cleaning\n",
    "\n",
    "\n",
    "\"\"\"\n",
    "\n",
    "import pandas as pd\n",
    "\n",
    "# Open locally stored dataset\n",
    "df = pd.read_csv('kaggle/Disease Symptoms and Patient Profile Dataset_exported.csv')\n",
    "\n",
    "# Display statistics of number of classes and number of samples for each class\n",
    "disease_occurrence_count = df['Disease'].value_counts()\n",
    "\n",
    "# return first n names of diseases\n",
    "n = 10\n",
    "disease_names = disease_occurrence_count.index[:n].tolist()\n",
    "print(disease_names)\n",
    "\n",
    "# Filter the dataset to only include the first n diseases\n",
    "df_filtered = df[df['Disease'].isin(disease_names)].copy()\n",
    "\n",
    "# New symptoms\n",
    "new_symptoms = ['Headache', 'Sore Throat','Runny Nose']\n",
    "new_vital_signs = ['Temperature', 'BMI'] \n",
    "\n",
    "# Add new symptoms to the dataset using .loc\n",
    "for symptom in new_symptoms:\n",
    "    df_filtered.loc[:, symptom] = 'No'\n",
    "\n",
    "# Add new vital signs with default values\n",
    "df_filtered.loc[:, 'Temperature'] = 36.5  # Normal temperature\n",
    "df_filtered.loc[:, 'BMI'] = 22.5  # Normal BMI\n",
    "\n",
    "# Update existing records with 'Yes' where applicable for positive cases\n",
    "# Influenza\n",
    "df_filtered.loc[\n",
    "    (df_filtered['Disease'] == 'Influenza') & \n",
    "    (df_filtered['Outcome Variable'] == 'Positive'),\n",
    "    ['Headache', 'Sore Throat', 'Runny Nose', 'Temperature']\n",
    "] = ['Yes', 'Yes', 'Yes', 38.0]  # Higher temperature for fever\n",
    "\n",
    "# Migraine\n",
    "df_filtered.loc[\n",
    "    (df_filtered['Disease'] == 'Migraine') & \n",
    "    (df_filtered['Outcome Variable'] == 'Positive'),\n",
    "    'Headache'\n",
    "] = 'Yes'\n",
    "\n",
    "# Stroke\n",
    "df_filtered.loc[\n",
    "    (df_filtered['Disease'] == 'Stroke') & \n",
    "    (df_filtered['Outcome Variable'] == 'Positive'),\n",
    "    'Headache'\n",
    "] = 'Yes'\n",
    "\n",
    "# Hypertension\n",
    "df_filtered.loc[\n",
    "    (df_filtered['Disease'] == 'Hypertension') & \n",
    "    (df_filtered['Outcome Variable'] == 'Positive'),\n",
    "    'Headache'\n",
    "] = 'Yes'\n",
    "\n",
    "# Pneumonia\n",
    "df_filtered.loc[\n",
    "    (df_filtered['Disease'] == 'Pneumonia') & \n",
    "    (df_filtered['Outcome Variable'] == 'Positive'),\n",
    "    ['Sore Throat', 'Temperature']\n",
    "] = ['Yes', 39.0]  # Fever for Pneumonia\n",
    "\n",
    "# Bronchitis\n",
    "df_filtered.loc[\n",
    "    (df_filtered['Disease'] == 'Bronchitis') & \n",
    "    (df_filtered['Outcome Variable'] == 'Positive'),\n",
    "    ['Sore Throat', 'Runny Nose', 'Temperature']\n",
    "] = ['Yes', 'Yes', 37.8]  # Elevated temperature\n",
    "\n",
    "# Add new records (example)\n",
    "new_records = pd.DataFrame([\n",
    "    {'Disease': 'Asthma', 'Outcome Variable': 'Positive', 'Headache': 'No', 'Sore Throat': 'No', 'Runny Nose': 'No', 'Temperature': 36.5, 'BMI': 24.0},\n",
    "    {'Disease': 'Diabetes', 'Outcome Variable': 'Positive', 'Headache': 'No', 'Sore Throat': 'No', 'Runny Nose': 'No', 'Temperature': 36.5, 'BMI': 28.0},\n",
    "    # Add more records as needed\n",
    "])\n",
    "\n",
    "# Append new records to the DataFrame\n",
    "df_updated = pd.concat([df_filtered, new_records], ignore_index=True)\n",
    "\n",
    "# Store in new CSV file\n",
    "df_filtered.to_csv('kaggle/Disease Symptoms and Patient Profile Dataset_filtered.csv', index=False)\n"
   ],
   "id": "b6c8656045f5f1eb"
  },
  {
   "metadata": {},
   "cell_type": "code",
   "outputs": [],
   "execution_count": null,
   "source": [
    "import pandas as pd\n",
    "\n",
    "# Open locally stored dataset\n",
    "df = pd.read_csv('kaggle/Disease Symptoms and Patient Profile Dataset_exported.csv')\n",
    "\n"
   ],
   "id": "b739ef4fc2e34b7c"
  }
 ],
 "metadata": {
  "kernelspec": {
   "display_name": "Python 3",
   "language": "python",
   "name": "python3"
  },
  "language_info": {
   "codemirror_mode": {
    "name": "ipython",
    "version": 2
   },
   "file_extension": ".py",
   "mimetype": "text/x-python",
   "name": "python",
   "nbconvert_exporter": "python",
   "pygments_lexer": "ipython2",
   "version": "2.7.6"
  }
 },
 "nbformat": 4,
 "nbformat_minor": 5
}
