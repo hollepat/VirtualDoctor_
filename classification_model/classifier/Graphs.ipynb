{
 "cells": [
  {
   "cell_type": "code",
   "id": "initial_id",
   "metadata": {
    "collapsed": true,
    "ExecuteTime": {
     "end_time": "2024-09-27T13:19:21.671910Z",
     "start_time": "2024-09-27T13:19:21.670103Z"
    }
   },
   "source": [
    "import pandas as pd\n",
    "from sklearn.ensemble import StackingClassifier\n",
    "from sklearn.linear_model import LogisticRegression\n",
    "from sklearn.tree import DecisionTreeClassifier\n",
    "from xgboost import XGBClassifier\n",
    "\n",
    "# Define base models\n",
    "estimators = [\n",
    "    ('lr', LogisticRegression()),\n",
    "    ('dt', RandomForestClassifier())\n",
    "]\n",
    "\n",
    "# Meta-model (XGBoost)\n",
    "clf = StackingClassifier(estimators=estimators, final_estimator=XGBClassifier(use_label_encoder=False, eval_metric='logloss'))\n",
    "\n",
    "# Fit and predict\n",
    "clf.fit(X_train, y_train)\n",
    "print(f\"Stacking accuracy with XGBoost as meta-model: {clf.score(X_test, y_test):.2f}\")"
   ],
   "outputs": [],
   "execution_count": null
  },
  {
   "metadata": {
    "ExecuteTime": {
     "end_time": "2024-10-12T20:28:16.436771Z",
     "start_time": "2024-10-12T20:28:16.298605Z"
    }
   },
   "cell_type": "code",
   "source": [
    "from sklearn.ensemble import StackingClassifier\n",
    "from xgboost import XGBClassifier\n",
    "from lightgbm import LGBMClassifier\n",
    "from sklearn.linear_model import LogisticRegression\n",
    "from sklearn.ensemble import RandomForestClassifier\n",
    "from sklearn.model_selection import train_test_split\n",
    "from sklearn.datasets import load_breast_cancer\n",
    "\n",
    "# Load data\n",
    "data = load_breast_cancer()\n",
    "dataset = pd.read_csv('../datasets/kaggle/Disease Symptoms and Patient Profile Dataset_exported.csv')\n",
    "\n",
    "# Preprocessing\n",
    "\n",
    "## Filter all rows wit negative outcome\n",
    "dataset = dataset.drop('Outcome Value', axis=1)\n",
    "\n",
    "\n",
    "X_train, X_test, y_train, y_test = train_test_split(data.data, data.target, test_size=0.2, random_state=42)\n",
    "\n",
    "# Define base models\n",
    "estimators = [\n",
    "    ('xgb', XGBClassifier(use_label_encoder=False, eval_metric='logloss')),\n",
    "    ('lgbm', LGBMClassifier()),\n",
    "    ('rf', RandomForestClassifier())\n",
    "]\n",
    "\n",
    "# Meta-model\n",
    "clf = StackingClassifier(estimators=estimators, final_estimator=LogisticRegression())\n",
    "\n",
    "# Only Train model\n",
    "clf.fit(X_train, y_train)\n",
    "\n",
    "# Prepare real case data\n",
    "input = [\"Asthma\",\"Yes\",\"Yes\",\"No\",\"Yes\",\"25\",\"Male\",\"Normal\",\"Normal\"]\n",
    "\n",
    "# Predict\n"
   ],
   "id": "11aee3fd46d038ec",
   "outputs": [
    {
     "ename": "NameError",
     "evalue": "name 'pd' is not defined",
     "output_type": "error",
     "traceback": [
      "\u001B[0;31m---------------------------------------------------------------------------\u001B[0m",
      "\u001B[0;31mNameError\u001B[0m                                 Traceback (most recent call last)",
      "Cell \u001B[0;32mIn[2], line 11\u001B[0m\n\u001B[1;32m      9\u001B[0m \u001B[38;5;66;03m# Load data\u001B[39;00m\n\u001B[1;32m     10\u001B[0m data \u001B[38;5;241m=\u001B[39m load_breast_cancer()\n\u001B[0;32m---> 11\u001B[0m dataset \u001B[38;5;241m=\u001B[39m \u001B[43mpd\u001B[49m\u001B[38;5;241m.\u001B[39mread_csv(\u001B[38;5;124m'\u001B[39m\u001B[38;5;124m../datasets/kaggle/Disease Symptoms and Patient Profile Dataset_exported.csv\u001B[39m\u001B[38;5;124m'\u001B[39m)\n\u001B[1;32m     13\u001B[0m \u001B[38;5;66;03m# Preprocessing\u001B[39;00m\n\u001B[1;32m     14\u001B[0m \n\u001B[1;32m     15\u001B[0m \u001B[38;5;66;03m## Filter all rows wit negative outcome\u001B[39;00m\n\u001B[1;32m     16\u001B[0m dataset \u001B[38;5;241m=\u001B[39m dataset\u001B[38;5;241m.\u001B[39mdrop(\u001B[38;5;124m'\u001B[39m\u001B[38;5;124mOutcome Value\u001B[39m\u001B[38;5;124m'\u001B[39m, axis\u001B[38;5;241m=\u001B[39m\u001B[38;5;241m1\u001B[39m)\n",
      "\u001B[0;31mNameError\u001B[0m: name 'pd' is not defined"
     ]
    }
   ],
   "execution_count": 2
  },
  {
   "metadata": {},
   "cell_type": "code",
   "outputs": [],
   "execution_count": null,
   "source": "",
   "id": "345d07fc6523cd67"
  }
 ],
 "metadata": {
  "kernelspec": {
   "display_name": "Python 3",
   "language": "python",
   "name": "python3"
  },
  "language_info": {
   "codemirror_mode": {
    "name": "ipython",
    "version": 2
   },
   "file_extension": ".py",
   "mimetype": "text/x-python",
   "name": "python",
   "nbconvert_exporter": "python",
   "pygments_lexer": "ipython2",
   "version": "2.7.6"
  }
 },
 "nbformat": 4,
 "nbformat_minor": 5
}
